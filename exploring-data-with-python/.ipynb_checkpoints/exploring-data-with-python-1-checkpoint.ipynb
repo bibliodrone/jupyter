{
 "cells": [
  {
   "cell_type": "markdown",
   "id": "2aabb525",
   "metadata": {},
   "source": [
    "# Exploring Data With Python\n",
    "\n",
    "A brief review of basic mathamatical vocabular and symbols combined with thier application within Python. \n",
    "\n",
    "#### Mathmatical Topics Covered\n",
    "\n",
    "1. Population\n",
    "2. Sample\n",
    "3. Categorical and Quatitative Data (Probability Distribution)\n",
    "4. Basic visualizations (Bar Plot, Histograms, Stem and Leaf dispalys)\n",
    "5. Cross Tabulation - Mean, Median, Mode\n",
    "6. Group Frequency \n",
    "7. Standard Deviation\n",
    "8. Percentiles, Quartiles, Quintiles, Deciles \n",
    "9. Plotting (Elementry box plot)\n",
    "10. IQR (interquartile range) - Box Plots (trandition/modified) - including upper/lower limits and outlier\n",
    "\n",
    "#### Python Libraries Introduced\n",
    "\n",
    "1. numpy\n",
    "2. pandas\n",
    "3. matplotlib\n",
    "\n",
    "______\n",
    "While there are many opportunities to dive deep into python coding the main purpose of this notebook is to provided a demonstration of the solid mathamatical foundation needed to perform detailed data anaylsis.  Additionally by producing output using **LaTeX** to ensure information is presented in a form ready for pulication to the math and science community.\n"
   ]
  },
  {
   "cell_type": "markdown",
   "id": "0aefd8fa",
   "metadata": {},
   "source": [
    "## Loading Python Libraries\n",
    "\n",
    "This process assumes you have completed the installation of the required packages in a virutal enviroment.  If you need additional help on setting up the correct enviroment please reach out on the Boston Python Slack channel. \n",
    "\n"
   ]
  },
  {
   "cell_type": "code",
   "execution_count": null,
   "id": "d98d3736",
   "metadata": {},
   "outputs": [],
   "source": [
    "# import libraries using standard abbreviations\n",
    "import numpy as np\n",
    "import pandas as pd\n",
    "import matplotlib as mpl\n",
    "import matplotlib.pyplot as plt\n",
    "import stemgraphic\n",
    "\n",
    "print(\"Library Versions\")\n",
    "print(\"numpy version: {}\".format(np.__version__))\n",
    "print(\"pandas version: {}\".format(pd.__version__))\n",
    "print('matplotlib: {}'.format(mpl.__version__))\n"
   ]
  },
  {
   "cell_type": "markdown",
   "id": "46b8b961",
   "metadata": {},
   "source": [
    "# Population vs Sample\n",
    "\n",
    "## Definitions\n",
    "\n",
    "* A **population** is the entire group that you want to draw conclusions about.\n",
    "* A **sample** is the specific group that you will collect data from. The size of the sample is always less than the total size of the population.\n",
    "\n",
    "## Collecting Data\n",
    "\n",
    "**Populations** are used when you have access to data from the entire population.  Here you might consider the manufacturing process where information is gathered about all aspects of the process. Do they measure everything?  Well maybe if they make critical parts for space ships or submarines. \n",
    "\n",
    "Consider a company that makes paper cups. Do you believe they would measure every paper cup to document that is was made correctly?  Imagine what that would do to the price. Yet paper cups seem to all be about the same.  This is accomplished by using samples and collecting data on some of the cups. \n",
    "\n",
    "Through statisical analysis we can use **samples** to make estimates or test hypotheses about a population. There are many methods to ensure samples are random and representative. Terms you will floating around samples a [sampling bias](https://www.scribbr.com/methodology/sampling-bias/) and [internal](https://www.scribbr.com/methodology/internal-validity/) and [external validity](https://www.scribbr.com/methodology/external-validity/). \n",
    "\n",
    "\n",
    "Reference: [Population vs Sample | Definitions, Differences & Examples](https://www.scribbr.com/methodology/population-vs-sample/)\n",
    "_______\n",
    "### Loading Datasets\n",
    "\n",
    "|Dataset|Remarks|\n",
    "|-------|-------|\n",
    "|Amtrak Stations| Information about Amtrak railroad stations|\n",
    "\n"
   ]
  },
  {
   "cell_type": "code",
   "execution_count": null,
   "id": "601f89b3",
   "metadata": {},
   "outputs": [],
   "source": [
    "# Load Amtrak data set (csv file) into a pandas dataframe\n",
    "Amtrak_df = pd.read_csv (r'AMTRAK-Stations-Database_2012.csv')\n",
    "\n",
    "Amtrak_df.head(10)  #Take a quick peak at the information to amke sure it loaded."
   ]
  },
  {
   "cell_type": "markdown",
   "id": "8f6cd533",
   "metadata": {},
   "source": [
    "### Initial Examination of Data\n",
    "\n",
    "Perform interactive examination of the infromation in the data set. In this case we will start with how much information was in the dataset. Additionally we will consider what information might be interesting.\n"
   ]
  },
  {
   "cell_type": "code",
   "execution_count": null,
   "id": "d85802eb",
   "metadata": {},
   "outputs": [],
   "source": [
    "# Check index size and the column names\n",
    "print(\"Index information: \", Amtrak_df.index, \"\\n\")\n",
    "print(\"Column information: \", Amtrak_df.columns, \"\\n\")\n"
   ]
  },
  {
   "cell_type": "code",
   "execution_count": null,
   "id": "8241d58c",
   "metadata": {},
   "outputs": [],
   "source": [
    "# Continue looking at the size and shape of the information\n",
    "print(\"Dataframe shape: \", Amtrak_df.shape, \"\\n\")\n",
    "print(\"Dataframe size: \", Amtrak_df.size, \"\\n\")"
   ]
  },
  {
   "cell_type": "code",
   "execution_count": null,
   "id": "362b2b62",
   "metadata": {},
   "outputs": [],
   "source": [
    "Amtrak_df.describe"
   ]
  },
  {
   "cell_type": "markdown",
   "id": "fba2a767",
   "metadata": {},
   "source": [
    "# Things to Consider About The Amtrak Station Dataset\n",
    "\n",
    "1. Not any numbers in the data set. \n",
    "2. With 86 columns of data lot of stuff we do not care about\n",
    "3. With 973 rows this is very likely the entire population of Amtrak stations in the US\n",
    "\n",
    "## Categorical Data\n",
    "\n",
    "This is a clear cass of working with Categorical data. Columns names like __StationType__, __City__, and __State__ represent categories. These categories describe the station which is identified wit a __Code__ and __StationName__. \n",
    "\n",
    "________\n",
    "### Reduce Size of Dataframe\n",
    "\n"
   ]
  },
  {
   "cell_type": "code",
   "execution_count": null,
   "id": "afa1f28e",
   "metadata": {},
   "outputs": [],
   "source": [
    "# Set up list as filter to apply to dataframe\n",
    "filterColumn = ['Code', 'StationName', 'StationType', 'City', 'State']\n",
    "\n",
    "# Create a second reduced dataframe\n",
    "Amtrak_reduced_df = Amtrak_df[filterColumn]\n",
    "\n",
    "print(Amtrak_reduced_df.shape)\n",
    "print(Amtrak_reduced_df.head())"
   ]
  },
  {
   "cell_type": "markdown",
   "id": "d941b857",
   "metadata": {},
   "source": [
    "## Finding Useful Information\n",
    "\n",
    "Count up the number of each station type\n"
   ]
  },
  {
   "cell_type": "code",
   "execution_count": null,
   "id": "4ca4b9a4",
   "metadata": {},
   "outputs": [],
   "source": [
    "Amtrak_stationType = Amtrak_reduced_df['StationType'].value_counts()\n",
    "print(\"Station Type Counts\\n\")\n",
    "print(Amtrak_stationType)\n",
    "type(Amtrak_stationType)\n"
   ]
  },
  {
   "cell_type": "markdown",
   "id": "1147168a",
   "metadata": {},
   "source": [
    "#### Dataframe is more useful"
   ]
  },
  {
   "cell_type": "code",
   "execution_count": null,
   "id": "31993fbb",
   "metadata": {},
   "outputs": [],
   "source": [
    "# single column\n",
    "Amtrak_stationType_df = Amtrak_reduced_df.groupby([\"StationType\"]).size().reset_index(name=\"Count\")\n",
    "print(Amtrak_stationType_df)"
   ]
  },
  {
   "cell_type": "code",
   "execution_count": null,
   "id": "8748966e",
   "metadata": {},
   "outputs": [],
   "source": [
    "# multicolumns\n",
    "columnList = [\"State\", \"StationType\"]\n",
    "Amtrak_stationTypeXState_df =Amtrak_reduced_df.groupby(columnList).size().reset_index(name=\"Count\")\n",
    "print(Amtrak_stationTypeXState_df)"
   ]
  },
  {
   "cell_type": "code",
   "execution_count": null,
   "id": "c37f9111",
   "metadata": {},
   "outputs": [],
   "source": [
    "# one more by state\n",
    "Amtrak_stationState_df = Amtrak_reduced_df.groupby([\"State\"]).size().reset_index(name=\"Count\")\n",
    "print(Amtrak_stationState_df.tail(10))"
   ]
  },
  {
   "cell_type": "markdown",
   "id": "08b7573b",
   "metadata": {},
   "source": [
    "# Visualization\n",
    "\n",
    "## Barchart - Basic"
   ]
  },
  {
   "cell_type": "code",
   "execution_count": null,
   "id": "71e394a9",
   "metadata": {},
   "outputs": [],
   "source": [
    "Amtrak_stationState_df.plot(kind='bar')\n",
    "\n",
    "# Amtrak_stationState_df.plot(kind='bar', x='State', y='Count', title='Amtrak Stations by State', figsize= (11,6))\n",
    "# plt.minorticks_on()\n",
    "# plt.grid(which='major', linestyle='-', linewidth='0.5', color='green')\n",
    "# plt.grid(which='minor', linestyle=':', linewidth='0.5', color='black')"
   ]
  },
  {
   "cell_type": "code",
   "execution_count": null,
   "id": "e57ccee9",
   "metadata": {},
   "outputs": [],
   "source": [
    "# del Amtrak_stationTopStates_df\n",
    "# Look for the states with the larget number of stations\n",
    "Amtrak_stationTopStates_df = Amtrak_stationState_df.loc[Amtrak_stationState_df['Count'] > 25]\n",
    "Amtrak_stationTopStates_df.plot(kind='bar', x='State', y='Count', \n",
    "                                title='Amtrak Stations by State', figsize= (8,4))\n",
    "# plt.minorticks_on()\n",
    "# plt.grid(which='major', linestyle='-', linewidth='0.5', color='teal')\n",
    "# plt.grid(which='minor', linestyle=':', linewidth='0.5', color='black')"
   ]
  },
  {
   "cell_type": "markdown",
   "id": "6919ef46",
   "metadata": {},
   "source": [
    "### Probability Distribution\n",
    "\n",
    "A probability distribution tells us the probability that a random variable takes on certain values."
   ]
  },
  {
   "cell_type": "code",
   "execution_count": null,
   "id": "6cbc1500",
   "metadata": {},
   "outputs": [],
   "source": [
    "total = Amtrak_stationTopStates_df['Count'].sum()\n",
    "Amtrak_stationTopStates_df.insert(0, 'Probability', Amtrak_stationTopStates_df['Count']/total)"
   ]
  },
  {
   "cell_type": "code",
   "execution_count": 93,
   "id": "19e422ad",
   "metadata": {},
   "outputs": [
    {
     "data": {
      "text/plain": [
       "<AxesSubplot:title={'center':'Amtrak Stations by State'}, xlabel='State'>"
      ]
     },
     "execution_count": 93,
     "metadata": {},
     "output_type": "execute_result"
    },
    {
     "data": {
      "image/png": "[encoded data removed]",
      "text/plain": [
       "<Figure size 576x288 with 1 Axes>"
      ]
     },
     "metadata": {
      "needs_background": "light"
     },
     "output_type": "display_data"
    }
   ],
   "source": [
    "Amtrak_stationTopStates_df.plot(kind='bar', x='State', y='Probability', \n",
    "                                title='Amtrak Stations by State', figsize= (8,4))"
   ]
  },
  {
   "cell_type": "code",
   "execution_count": null,
   "id": "ea33d302",
   "metadata": {},
   "outputs": [],
   "source": []
  }
 ],
 "metadata": {
  "kernelspec": {
   "display_name": "Python 3 (ipykernel)",
   "language": "python",
   "name": "python3"
  },
  "language_info": {
   "codemirror_mode": {
    "name": "ipython",
    "version": 3
   },
   "file_extension": ".py",
   "mimetype": "text/x-python",
   "name": "python",
   "nbconvert_exporter": "python",
   "pygments_lexer": "ipython3",
   "version": "3.10.1"
  }
 },
 "nbformat": 4,
 "nbformat_minor": 5
}
