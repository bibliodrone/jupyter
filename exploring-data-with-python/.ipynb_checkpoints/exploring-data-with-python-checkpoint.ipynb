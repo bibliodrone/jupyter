{
 "cells": [
  {
   "cell_type": "markdown",
   "id": "2aabb525",
   "metadata": {},
   "source": [
    "# Exploring Data With Python\n",
    "\n",
    "A brief introduction to review basic mathamatical vocabular and symbols and thier application with Python. \n",
    "\n",
    "#### Mathmatical Topics Covered\n",
    "\n",
    "1. Population\n",
    "2. Sample\n",
    "3. Categorical and Quatitative Data\n",
    "4. Bsaic visualizations (Bar Plot, Histograms, Stem and Leaf dispalys)\n",
    "5. Cross Tabulation - Mean, Median, Mode\n",
    "6. Group Frequency \n",
    "7. Standard Deviation\n",
    "8. Percentiles, Quartiles, Quintiles, Deciles \n",
    "9. Plotting (Elementry box plot)\n",
    "10. IQR (interquartile range) - Box Plots (trandition/modified) - including upper/lower limits and outlier\n",
    "\n",
    "#### Python Libraries Introduced\n",
    "\n",
    "1. numpy\n",
    "2. pandas\n",
    "3. matplotlib\n",
    "\n",
    "______\n",
    "While there are many opportunities to dive deep into python coding the main purpose of this notebook is to provided a demonstration of the solid mathamatical foundation needed to perform detailed data anaylsis.  Additionally by producing output using **LaTeX** to ensure information is presented in a form ready for pulication to the math and science community.\n"
   ]
  },
  {
   "cell_type": "markdown",
   "id": "0aefd8fa",
   "metadata": {},
   "source": [
    "## Loading Python Libraries\n",
    "\n",
    "This process assumes you have completed the installation of the required packages in a virutal enviroment.  If you need additional help on setting up the correct enviroment please reach out on the Boston Python Slack channel. \n",
    "\n"
   ]
  },
  {
   "cell_type": "code",
   "execution_count": 4,
   "id": "d98d3736",
   "metadata": {},
   "outputs": [
    {
     "name": "stdout",
     "output_type": "stream",
     "text": [
      "Library Versions\n",
      "numpy version: 1.22.1\n",
      "pandas version: 1.3.5\n"
     ]
    }
   ],
   "source": [
    "# import libraries using standard abbreviations\n",
    "import numpy as np\n",
    "import pandas as pd\n",
    "# import matplotlib.pyplot as plt\n",
    "\n",
    "print(\"Library Versions\")\n",
    "print(\"numpy version: \", end = '')\n",
    "print(np.__version__)\n",
    "print(\"pandas version: \", end = '')\n",
    "print(pd.__version__)\n",
    "\n"
   ]
  },
  {
   "cell_type": "code",
   "execution_count": 5,
   "id": "f6c30e4a",
   "metadata": {},
   "outputs": [
    {
     "data": {
      "text/plain": [
       "['',\n",
       " '# import libraries using standard abbreviations\\nimport numpy as np\\nimport pandas as pd\\nimport matplotlib.pyplot as plt\\n\\nprint(\"Library Versions\")\\nprint(\"numpy version: \", end = \\'\\')\\nprint(np.__version__)\\nprint(\"pandas version: \", end = \\'\\')\\nprint(pd.__version__)',\n",
       " '4+2',\n",
       " '# import libraries using standard abbreviations\\nimport numpy as np\\nimport pandas as pd\\nimport matplotlib.pyplot as plt\\n\\nprint(\"Library Versions\")\\nprint(\"numpy version: \", end = \\'\\')\\nprint(np.__version__)\\nprint(\"pandas version: \", end = \\'\\')\\nprint(pd.__version__)\\n\\nnp.__version__',\n",
       " '# import libraries using standard abbreviations\\nimport numpy as np\\nimport pandas as pd\\n# import matplotlib.pyplot as plt\\n\\nprint(\"Library Versions\")\\nprint(\"numpy version: \", end = \\'\\')\\nprint(np.__version__)\\nprint(\"pandas version: \", end = \\'\\')\\nprint(pd.__version__)',\n",
       " 'In']"
      ]
     },
     "execution_count": 5,
     "metadata": {},
     "output_type": "execute_result"
    }
   ],
   "source": [
    "\n"
   ]
  },
  {
   "cell_type": "code",
   "execution_count": null,
   "id": "601f89b3",
   "metadata": {},
   "outputs": [],
   "source": []
  }
 ],
 "metadata": {
  "kernelspec": {
   "display_name": "Python 3 (ipykernel)",
   "language": "python",
   "name": "python3"
  },
  "language_info": {
   "codemirror_mode": {
    "name": "ipython",
    "version": 3
   },
   "file_extension": ".py",
   "mimetype": "text/x-python",
   "name": "python",
   "nbconvert_exporter": "python",
   "pygments_lexer": "ipython3",
   "version": "3.10.1"
  }
 },
 "nbformat": 4,
 "nbformat_minor": 5
}
