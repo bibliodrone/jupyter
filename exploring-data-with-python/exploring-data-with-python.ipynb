{
 "cells": [
  {
   "cell_type": "markdown",
   "id": "2aabb525",
   "metadata": {},
   "source": [
    "# Exploring Data With Python\n",
    "\n",
    "A brief review of basic mathamatical vocabular and symbols combined with thier application within Python. \n",
    "\n",
    "#### Mathmatical Topics Covered\n",
    "\n",
    "1. Population\n",
    "2. Sample\n",
    "3. Categorical and Quatitative Data (Probability Distribution)\n",
    "4. Bsaic visualizations (Bar Plot, Histograms, Stem and Leaf dispalys)\n",
    "5. Cross Tabulation - Mean, Median, Mode\n",
    "6. Group Frequency \n",
    "7. Standard Deviation\n",
    "8. Percentiles, Quartiles, Quintiles, Deciles \n",
    "9. Plotting (Elementry box plot)\n",
    "10. IQR (interquartile range) - Box Plots (trandition/modified) - including upper/lower limits and outlier\n",
    "\n",
    "#### Python Libraries Introduced\n",
    "\n",
    "1. numpy\n",
    "2. pandas\n",
    "3. matplotlib\n",
    "\n",
    "______\n",
    "While there are many opportunities to dive deep into python coding the main purpose of this notebook is to provided a demonstration of the solid mathamatical foundation needed to perform detailed data anaylsis.  Additionally by producing output using **LaTeX** to ensure information is presented in a form ready for pulication to the math and science community.\n"
   ]
  },
  {
   "cell_type": "markdown",
   "id": "0aefd8fa",
   "metadata": {},
   "source": [
    "## Loading Python Libraries\n",
    "\n",
    "This process assumes you have completed the installation of the required packages in a virutal enviroment.  If you need additional help on setting up the correct enviroment please reach out on the Boston Python Slack channel. \n",
    "\n"
   ]
  },
  {
   "cell_type": "code",
   "execution_count": 6,
   "id": "d98d3736",
   "metadata": {},
   "outputs": [
    {
     "name": "stdout",
     "output_type": "stream",
     "text": [
      "Library Versions\n",
      "numpy version: 1.22.1\n",
      "pandas version: 1.3.5\n",
      "matplotlib: 3.5.1\n"
     ]
    }
   ],
   "source": [
    "# import libraries using standard abbreviations\n",
    "import numpy as np\n",
    "import pandas as pd\n",
    "import matplotlib as mpl\n",
    "import matplotlib.pyplot as plt\n",
    "\n",
    "print(\"Library Versions\")\n",
    "print(\"numpy version: {}\".format(np.__version__))\n",
    "print(\"pandas version: {}\".format(pd.__version__))\n",
    "print('matplotlib: {}'.format(mpl.__version__))\n"
   ]
  },
  {
   "cell_type": "markdown",
   "id": "46b8b961",
   "metadata": {},
   "source": [
    "# Population vs Sample\n",
    "\n",
    "## Definitions\n",
    "\n",
    "* A **population** is the entire group that you want to draw conclusions about.\n",
    "* A **sample** is the specific group that you will collect data from. The size of the sample is always less than the total size of the population.\n",
    "\n",
    "## Collecting Data\n",
    "\n",
    "**Populations** are used when you have access to data from the entire population.  Here you might consider the manufacturing process where information is gathered about all aspects of the process. Do they measure everything?  Well maybe if they make critical parts for space ships or submarines. \n",
    "\n",
    "Consider a company that makes paper cups. Do you believe they would measure every paper cup to document that is was made correctly?  Imagine what that would do to the price. Yet paper cups seem to all be about the same.  This is accomplished by using samples and collecting data on some of the cups. \n",
    "\n",
    "Through statisical analysis we can use **samples** to make estimates or test hypotheses about a population. There are many methods to ensure samples are random and representative. Terms you will floating around samples a [sampling bias](https://www.scribbr.com/methodology/sampling-bias/) and [internal](https://www.scribbr.com/methodology/internal-validity/) and [external validity](https://www.scribbr.com/methodology/external-validity/). \n",
    "\n",
    "\n",
    "Reference: [Population vs Sample | Definitions, Differences & Examples](https://www.scribbr.com/methodology/population-vs-sample/)\n",
    "_______\n",
    "#### Loading Datasets\n",
    "\n",
    "|Dataset|Remarks|\n",
    "|-------|-------|\n",
    "|Amtrak Stations| Information about Amtrak railroad stations|\n",
    "\n"
   ]
  },
  {
   "cell_type": "code",
   "execution_count": null,
   "id": "601f89b3",
   "metadata": {},
   "outputs": [],
   "source": []
  }
 ],
 "metadata": {
  "kernelspec": {
   "display_name": "Python 3 (ipykernel)",
   "language": "python",
   "name": "python3"
  },
  "language_info": {
   "codemirror_mode": {
    "name": "ipython",
    "version": 3
   },
   "file_extension": ".py",
   "mimetype": "text/x-python",
   "name": "python",
   "nbconvert_exporter": "python",
   "pygments_lexer": "ipython3",
   "version": "3.10.1"
  }
 },
 "nbformat": 4,
 "nbformat_minor": 5
}
