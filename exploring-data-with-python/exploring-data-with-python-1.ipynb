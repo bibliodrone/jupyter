{
 "cells": [
  {
   "cell_type": "markdown",
   "id": "2aabb525",
   "metadata": {},
   "source": [
    "# Exploring Data With Python\n",
    "\n",
    "A brief review of basic mathematical vocabulary and symbols combined with their application within Python\n",
    "\n",
    "#### Mathmatical Topics Covered\n",
    "\n",
    "1.  Population\n",
    "2.  Sample\n",
    "3.  Categorical and Quantitative Data (Probability Distribution)\n",
    "4.  Basic visualizations (Bar Plot, Histograms, Stem and Leaf displays)\n",
    "5.  Cross Tabulation - Mean, Median, Mode\n",
    "6.  Group Frequency \n",
    "7.  Standard Deviation\n",
    "8. Percentiles, Quartiles, Quintiles, Deciles \n",
    "9.  Plotting (Elementry box plot)\n",
    "10. IQR (interquartile range) - Box Plots (tradition/modified) - including upper/lower limits and outlier\n",
    "\n",
    "#### Python Libraries Introduced\n",
    "\n",
    "1. [numpy](https://numpy.org/)\n",
    "2. [pandas](https://pandas.pydata.org/)\n",
    "3. [matplotlib](https://matplotlib.org/)\n",
    "4. [stemgraphic](http://stemgraphic.org/doc/intro.html)\n",
    "______\n",
    "While there are many opportunities to dive deep into python coding, this notebook's primary purpose is to demonstrate the solid mathematical foundation needed to perform detailed data analysis.  "
   ]
  },
  {
   "cell_type": "markdown",
   "id": "0aefd8fa",
   "metadata": {},
   "source": [
    "## Loading Python Libraries\n",
    "\n",
    "This process assumes you have completed the installation of the required packages in a virutal enviroment.  If you need additional help on setting up the correct enviroment please reach out on the Boston Python Slack channel. \n",
    "\n"
   ]
  },
  {
   "cell_type": "code",
   "execution_count": 1,
   "id": "d98d3736",
   "metadata": {},
   "outputs": [
    {
     "name": "stdout",
     "output_type": "stream",
     "text": [
      "Library Versions\n",
      "numpy version: 1.22.1\n",
      "pandas version: 1.3.5\n",
      "matplotlib: 3.5.1\n"
     ]
    }
   ],
   "source": [
    "# import libraries using standard abbreviations\n",
    "import numpy as np\n",
    "import pandas as pd\n",
    "import matplotlib as mpl\n",
    "import matplotlib.pyplot as plt\n",
    "from stemgraphic.alpha import stem_graphic\n",
    "\n",
    "print(\"Library Versions\")\n",
    "print(\"numpy version: {}\".format(np.__version__))\n",
    "print(\"pandas version: {}\".format(pd.__version__))\n",
    "print('matplotlib: {}'.format(mpl.__version__))\n"
   ]
  },
  {
   "cell_type": "markdown",
   "id": "46b8b961",
   "metadata": {},
   "source": [
    "# Population vs. Sample\n",
    "\n",
    "## Definitions\n",
    "\n",
    "* A **population** is the entire group where you want to conclude something.\n",
    "* A **sample** is the specific group to collect data about a population. The sample size is always less than the total size of the population.\n",
    "\n",
    "## Collecting Data\n",
    "\n",
    "**Populations** are used when you have access to data from the entire population. Here you might consider the manufacturing process where information is gathered about all aspects. Do they measure everything? Maybe if they make critical parts for space ships or submarines. \n",
    "\n",
    "Consider a company that makes paper cups. Do you believe they would measure every paper cup? Imagine what that would do to the price. Yet paper cups seem to all be about the same. This consistency is accomplished by using samples and collecting data on some of the cups. \n",
    "\n",
    "We can use **samples** to make estimates or test hypotheses about a population by utilizing statistical analysis. There are many methods to ensure samples are random and representative. Terms you will floating around samples a [sampling bias](https://www.scribbr.com/methodology/sampling-bias/) and [internal](https://www.scribbr.com/methodology/internal-validity/) and [external validity](https://www.scribbr.com/methodology/external-validity/). \n",
    "\n",
    "\n",
    "Reference: [Population vs Sample | Definitions, Differences & Examples](https://www.scribbr.com/methodology/population-vs-sample/)\n",
    "_______\n",
    "### Loading Datasets\n",
    "\n",
    "|Dataset|Remarks|\n",
    "|-------|-------|\n",
    "|Amtrak Stations| Information about Amtrak railroad stations|\n",
    "\n"
   ]
  },
  {
   "cell_type": "code",
   "execution_count": 2,
   "id": "601f89b3",
   "metadata": {},
   "outputs": [
    {
     "data": {
      "text/html": [
       "<div>\n",
       "<style scoped>\n",
       "    .dataframe tbody tr th:only-of-type {\n",
       "        vertical-align: middle;\n",
       "    }\n",
       "\n",
       "    .dataframe tbody tr th {\n",
       "        vertical-align: top;\n",
       "    }\n",
       "\n",
       "    .dataframe thead th {\n",
       "        text-align: right;\n",
       "    }\n",
       "</style>\n",
       "<table border=\"1\" class=\"dataframe\">\n",
       "  <thead>\n",
       "    <tr style=\"text-align: right;\">\n",
       "      <th></th>\n",
       "      <th>Code</th>\n",
       "      <th>StationName</th>\n",
       "      <th>Staffed</th>\n",
       "      <th>StationType</th>\n",
       "      <th>Address1</th>\n",
       "      <th>Address2</th>\n",
       "      <th>Address3</th>\n",
       "      <th>City</th>\n",
       "      <th>State</th>\n",
       "      <th>Zip</th>\n",
       "      <th>...</th>\n",
       "      <th>BaggageHours</th>\n",
       "      <th>MeetAndAssistHours</th>\n",
       "      <th>TicketHours</th>\n",
       "      <th>Non-AmtrakTicket</th>\n",
       "      <th>Quik-TrakHours</th>\n",
       "      <th>MetrolinkTVMHours</th>\n",
       "      <th>LoungeHours</th>\n",
       "      <th>ExpressHours</th>\n",
       "      <th>MailOfficeHours</th>\n",
       "      <th>ParkingHours</th>\n",
       "    </tr>\n",
       "  </thead>\n",
       "  <tbody>\n",
       "    <tr>\n",
       "      <th>0</th>\n",
       "      <td>ABB</td>\n",
       "      <td>Abbotsford-Colby, Wisconsin</td>\n",
       "      <td>N</td>\n",
       "      <td>Curbside Bus Stop only (no shelter)</td>\n",
       "      <td>1210 North Division St.</td>\n",
       "      <td>Super 29 Shell</td>\n",
       "      <td>NaN</td>\n",
       "      <td>Colby</td>\n",
       "      <td>WI</td>\n",
       "      <td>54421</td>\n",
       "      <td>...</td>\n",
       "      <td>NaN</td>\n",
       "      <td>NaN</td>\n",
       "      <td>NaN</td>\n",
       "      <td>NaN</td>\n",
       "      <td>NaN</td>\n",
       "      <td>NaN</td>\n",
       "      <td>NaN</td>\n",
       "      <td>NaN</td>\n",
       "      <td>NaN</td>\n",
       "      <td>NaN</td>\n",
       "    </tr>\n",
       "    <tr>\n",
       "      <th>1</th>\n",
       "      <td>ABE</td>\n",
       "      <td>Aberdeen, Maryland</td>\n",
       "      <td>N</td>\n",
       "      <td>Station Building (with waiting room)</td>\n",
       "      <td>18 East Bel Air Avenue</td>\n",
       "      <td>Amtrak/MARC Station</td>\n",
       "      <td>NaN</td>\n",
       "      <td>Aberdeen</td>\n",
       "      <td>MD</td>\n",
       "      <td>21001-3701</td>\n",
       "      <td>...</td>\n",
       "      <td>NaN</td>\n",
       "      <td>NaN</td>\n",
       "      <td>NaN</td>\n",
       "      <td>NaN</td>\n",
       "      <td>-MTWTF- 0400-0930 1430-2030</td>\n",
       "      <td>NaN</td>\n",
       "      <td>NaN</td>\n",
       "      <td>NaN</td>\n",
       "      <td>NaN</td>\n",
       "      <td>SMTWTFS 0000-2359</td>\n",
       "    </tr>\n",
       "    <tr>\n",
       "      <th>2</th>\n",
       "      <td>ABN</td>\n",
       "      <td>Absecon, New Jersey</td>\n",
       "      <td>N</td>\n",
       "      <td>Platform with Shelter</td>\n",
       "      <td>Shore Road and Ohio Avenue</td>\n",
       "      <td>New Jersey Transit Station</td>\n",
       "      <td>NaN</td>\n",
       "      <td>Absecon</td>\n",
       "      <td>NJ</td>\n",
       "      <td>08201</td>\n",
       "      <td>...</td>\n",
       "      <td>NaN</td>\n",
       "      <td>NaN</td>\n",
       "      <td>NaN</td>\n",
       "      <td>NaN</td>\n",
       "      <td>NaN</td>\n",
       "      <td>NaN</td>\n",
       "      <td>NaN</td>\n",
       "      <td>NaN</td>\n",
       "      <td>NaN</td>\n",
       "      <td>NaN</td>\n",
       "    </tr>\n",
       "    <tr>\n",
       "      <th>3</th>\n",
       "      <td>ABQ</td>\n",
       "      <td>Albuquerque, New Mexico</td>\n",
       "      <td>Y</td>\n",
       "      <td>Station Building (with waiting room)</td>\n",
       "      <td>320 1st Street SW</td>\n",
       "      <td>Alvarado Transportation Center</td>\n",
       "      <td>NaN</td>\n",
       "      <td>Albuquerque</td>\n",
       "      <td>NM</td>\n",
       "      <td>87102-3405</td>\n",
       "      <td>...</td>\n",
       "      <td>SMTWTFS 0945-1700</td>\n",
       "      <td>SMTWTFS 0945-1700</td>\n",
       "      <td>SMTWTFS 0945-1700</td>\n",
       "      <td>NaN</td>\n",
       "      <td>SMTWTFS 0000-2359</td>\n",
       "      <td>NaN</td>\n",
       "      <td>NaN</td>\n",
       "      <td>NaN</td>\n",
       "      <td>NaN</td>\n",
       "      <td>SMTWTFS 0000-2359</td>\n",
       "    </tr>\n",
       "    <tr>\n",
       "      <th>4</th>\n",
       "      <td>ACA</td>\n",
       "      <td>Antioch-Pittsburg, California</td>\n",
       "      <td>N</td>\n",
       "      <td>Platform with Shelter</td>\n",
       "      <td>100 I Street</td>\n",
       "      <td>NaN</td>\n",
       "      <td>NaN</td>\n",
       "      <td>Antioch</td>\n",
       "      <td>CA</td>\n",
       "      <td>94509-1122</td>\n",
       "      <td>...</td>\n",
       "      <td>NaN</td>\n",
       "      <td>NaN</td>\n",
       "      <td>NaN</td>\n",
       "      <td>NaN</td>\n",
       "      <td>NaN</td>\n",
       "      <td>NaN</td>\n",
       "      <td>NaN</td>\n",
       "      <td>NaN</td>\n",
       "      <td>NaN</td>\n",
       "      <td>NaN</td>\n",
       "    </tr>\n",
       "    <tr>\n",
       "      <th>5</th>\n",
       "      <td>ACY</td>\n",
       "      <td>Atlantic City, New Jersey</td>\n",
       "      <td>N</td>\n",
       "      <td>Station Building (with waiting room)</td>\n",
       "      <td>1 Atlantic City Expressway</td>\n",
       "      <td>New Jersey Transit Station</td>\n",
       "      <td>NaN</td>\n",
       "      <td>Atlantic City</td>\n",
       "      <td>NJ</td>\n",
       "      <td>08401-4106</td>\n",
       "      <td>...</td>\n",
       "      <td>NaN</td>\n",
       "      <td>NaN</td>\n",
       "      <td>NaN</td>\n",
       "      <td>SMTWTFS 0545-2100</td>\n",
       "      <td>SMTWTFS 0000-2359</td>\n",
       "      <td>NaN</td>\n",
       "      <td>NaN</td>\n",
       "      <td>NaN</td>\n",
       "      <td>NaN</td>\n",
       "      <td>NaN</td>\n",
       "    </tr>\n",
       "    <tr>\n",
       "      <th>6</th>\n",
       "      <td>ADA</td>\n",
       "      <td>ADA Seat Removal</td>\n",
       "      <td>NaN</td>\n",
       "      <td>Pseudo Station</td>\n",
       "      <td>NaN</td>\n",
       "      <td>NaN</td>\n",
       "      <td>NaN</td>\n",
       "      <td>NaN</td>\n",
       "      <td>NaN</td>\n",
       "      <td>NaN</td>\n",
       "      <td>...</td>\n",
       "      <td>NaN</td>\n",
       "      <td>NaN</td>\n",
       "      <td>NaN</td>\n",
       "      <td>NaN</td>\n",
       "      <td>NaN</td>\n",
       "      <td>NaN</td>\n",
       "      <td>NaN</td>\n",
       "      <td>NaN</td>\n",
       "      <td>NaN</td>\n",
       "      <td>NaN</td>\n",
       "    </tr>\n",
       "    <tr>\n",
       "      <th>7</th>\n",
       "      <td>ADM</td>\n",
       "      <td>Ardmore, Oklahoma</td>\n",
       "      <td>N</td>\n",
       "      <td>Station Building (with waiting room)</td>\n",
       "      <td>251 East Main Street</td>\n",
       "      <td>NaN</td>\n",
       "      <td>NaN</td>\n",
       "      <td>Ardmore</td>\n",
       "      <td>OK</td>\n",
       "      <td>73401-7016</td>\n",
       "      <td>...</td>\n",
       "      <td>NaN</td>\n",
       "      <td>NaN</td>\n",
       "      <td>NaN</td>\n",
       "      <td>NaN</td>\n",
       "      <td>NaN</td>\n",
       "      <td>NaN</td>\n",
       "      <td>NaN</td>\n",
       "      <td>NaN</td>\n",
       "      <td>NaN</td>\n",
       "      <td>NaN</td>\n",
       "    </tr>\n",
       "    <tr>\n",
       "      <th>8</th>\n",
       "      <td>AGM</td>\n",
       "      <td>Augusta, Maine</td>\n",
       "      <td>N</td>\n",
       "      <td>Curbside Bus Stop only (no shelter)</td>\n",
       "      <td>9 Industrial Drive</td>\n",
       "      <td>Transportation Center</td>\n",
       "      <td>NaN</td>\n",
       "      <td>Augusta</td>\n",
       "      <td>ME</td>\n",
       "      <td>04330</td>\n",
       "      <td>...</td>\n",
       "      <td>NaN</td>\n",
       "      <td>NaN</td>\n",
       "      <td>NaN</td>\n",
       "      <td>NaN</td>\n",
       "      <td>NaN</td>\n",
       "      <td>NaN</td>\n",
       "      <td>NaN</td>\n",
       "      <td>NaN</td>\n",
       "      <td>NaN</td>\n",
       "      <td>NaN</td>\n",
       "    </tr>\n",
       "    <tr>\n",
       "      <th>9</th>\n",
       "      <td>AHL</td>\n",
       "      <td>Ashland, Oregon</td>\n",
       "      <td>N</td>\n",
       "      <td>Curbside Bus Stop only (no shelter)</td>\n",
       "      <td>585 Siskiyou Blvd</td>\n",
       "      <td>Safeway Market</td>\n",
       "      <td>Bus stop at the corner of Sherman and Siskiyou</td>\n",
       "      <td>Ashland</td>\n",
       "      <td>OR</td>\n",
       "      <td>97520</td>\n",
       "      <td>...</td>\n",
       "      <td>NaN</td>\n",
       "      <td>NaN</td>\n",
       "      <td>NaN</td>\n",
       "      <td>NaN</td>\n",
       "      <td>NaN</td>\n",
       "      <td>NaN</td>\n",
       "      <td>NaN</td>\n",
       "      <td>NaN</td>\n",
       "      <td>NaN</td>\n",
       "      <td>NaN</td>\n",
       "    </tr>\n",
       "  </tbody>\n",
       "</table>\n",
       "<p>10 rows × 86 columns</p>\n",
       "</div>"
      ],
      "text/plain": [
       "  Code                    StationName Staffed  \\\n",
       "0  ABB    Abbotsford-Colby, Wisconsin       N   \n",
       "1  ABE             Aberdeen, Maryland       N   \n",
       "2  ABN            Absecon, New Jersey       N   \n",
       "3  ABQ        Albuquerque, New Mexico       Y   \n",
       "4  ACA  Antioch-Pittsburg, California       N   \n",
       "5  ACY      Atlantic City, New Jersey       N   \n",
       "6  ADA               ADA Seat Removal     NaN   \n",
       "7  ADM              Ardmore, Oklahoma       N   \n",
       "8  AGM                 Augusta, Maine       N   \n",
       "9  AHL                Ashland, Oregon       N   \n",
       "\n",
       "                            StationType                    Address1  \\\n",
       "0   Curbside Bus Stop only (no shelter)     1210 North Division St.   \n",
       "1  Station Building (with waiting room)      18 East Bel Air Avenue   \n",
       "2                 Platform with Shelter  Shore Road and Ohio Avenue   \n",
       "3  Station Building (with waiting room)           320 1st Street SW   \n",
       "4                 Platform with Shelter                100 I Street   \n",
       "5  Station Building (with waiting room)  1 Atlantic City Expressway   \n",
       "6                        Pseudo Station                         NaN   \n",
       "7  Station Building (with waiting room)        251 East Main Street   \n",
       "8   Curbside Bus Stop only (no shelter)          9 Industrial Drive   \n",
       "9   Curbside Bus Stop only (no shelter)           585 Siskiyou Blvd   \n",
       "\n",
       "                         Address2  \\\n",
       "0                  Super 29 Shell   \n",
       "1             Amtrak/MARC Station   \n",
       "2      New Jersey Transit Station   \n",
       "3  Alvarado Transportation Center   \n",
       "4                             NaN   \n",
       "5      New Jersey Transit Station   \n",
       "6                             NaN   \n",
       "7                             NaN   \n",
       "8           Transportation Center   \n",
       "9                  Safeway Market   \n",
       "\n",
       "                                         Address3           City State  \\\n",
       "0                                             NaN          Colby    WI   \n",
       "1                                             NaN       Aberdeen    MD   \n",
       "2                                             NaN        Absecon    NJ   \n",
       "3                                             NaN    Albuquerque    NM   \n",
       "4                                             NaN        Antioch    CA   \n",
       "5                                             NaN  Atlantic City    NJ   \n",
       "6                                             NaN            NaN   NaN   \n",
       "7                                             NaN        Ardmore    OK   \n",
       "8                                             NaN        Augusta    ME   \n",
       "9  Bus stop at the corner of Sherman and Siskiyou        Ashland    OR   \n",
       "\n",
       "          Zip  ...       BaggageHours MeetAndAssistHours        TicketHours  \\\n",
       "0       54421  ...                NaN                NaN                NaN   \n",
       "1  21001-3701  ...                NaN                NaN                NaN   \n",
       "2       08201  ...                NaN                NaN                NaN   \n",
       "3  87102-3405  ...  SMTWTFS 0945-1700  SMTWTFS 0945-1700  SMTWTFS 0945-1700   \n",
       "4  94509-1122  ...                NaN                NaN                NaN   \n",
       "5  08401-4106  ...                NaN                NaN                NaN   \n",
       "6         NaN  ...                NaN                NaN                NaN   \n",
       "7  73401-7016  ...                NaN                NaN                NaN   \n",
       "8       04330  ...                NaN                NaN                NaN   \n",
       "9       97520  ...                NaN                NaN                NaN   \n",
       "\n",
       "    Non-AmtrakTicket               Quik-TrakHours MetrolinkTVMHours  \\\n",
       "0                NaN                          NaN               NaN   \n",
       "1                NaN  -MTWTF- 0400-0930 1430-2030               NaN   \n",
       "2                NaN                          NaN               NaN   \n",
       "3                NaN            SMTWTFS 0000-2359               NaN   \n",
       "4                NaN                          NaN               NaN   \n",
       "5  SMTWTFS 0545-2100            SMTWTFS 0000-2359               NaN   \n",
       "6                NaN                          NaN               NaN   \n",
       "7                NaN                          NaN               NaN   \n",
       "8                NaN                          NaN               NaN   \n",
       "9                NaN                          NaN               NaN   \n",
       "\n",
       "  LoungeHours ExpressHours MailOfficeHours       ParkingHours  \n",
       "0         NaN          NaN             NaN                NaN  \n",
       "1         NaN          NaN             NaN  SMTWTFS 0000-2359  \n",
       "2         NaN          NaN             NaN                NaN  \n",
       "3         NaN          NaN             NaN  SMTWTFS 0000-2359  \n",
       "4         NaN          NaN             NaN                NaN  \n",
       "5         NaN          NaN             NaN                NaN  \n",
       "6         NaN          NaN             NaN                NaN  \n",
       "7         NaN          NaN             NaN                NaN  \n",
       "8         NaN          NaN             NaN                NaN  \n",
       "9         NaN          NaN             NaN                NaN  \n",
       "\n",
       "[10 rows x 86 columns]"
      ]
     },
     "execution_count": 2,
     "metadata": {},
     "output_type": "execute_result"
    }
   ],
   "source": [
    "# Load Amtrak data set (csv file) into a pandas dataframe\n",
    "Amtrak_df = pd.read_csv (r'AMTRAK-Stations-Database_2012.csv')\n",
    "\n",
    "Amtrak_df.head(10)  #Take a quick peak at the information to amke sure it loaded."
   ]
  },
  {
   "cell_type": "markdown",
   "id": "8f6cd533",
   "metadata": {},
   "source": [
    "### Initial Examination of Data\n",
    "\n",
    "Perform interactive examination of the information in the data set. In this case, we will start with how much information was in the dataset. Additionally, we will consider what information might be interesting.\n",
    "\n",
    "## Key Points\n",
    "1. No idea what is in the data set\n",
    "2. Not sure what are the best questions to ask\n",
    "3. Open mind to discovery of ideas\n",
    "4. Have to consider this dataset could be useless\n"
   ]
  },
  {
   "cell_type": "code",
   "execution_count": 3,
   "id": "d85802eb",
   "metadata": {},
   "outputs": [
    {
     "name": "stdout",
     "output_type": "stream",
     "text": [
      "Index information:  RangeIndex(start=0, stop=973, step=1) \n",
      "\n",
      "Column information:  Index(['Code', 'StationName', 'Staffed', 'StationType', 'Address1', 'Address2',\n",
      "       'Address3', 'City', 'State', 'Zip', 'Country', 'Division',\n",
      "       'PublicPhone', 'TicketOffice', 'QuikTrak', 'MetrolinkTVM',\n",
      "       'CheckedBaggage', 'AmtrakExpress', 'HandleUSMail', 'Lounge',\n",
      "       'UnaccompaniedChildren', 'AdvPayPPO', 'AmtrakTrains',\n",
      "       'Non-AmtrakTrains', 'DedicatedThruway', 'CoordinatedThruway',\n",
      "       'OtherTransportation', 'GroupCity', 'IATACode', 'IATAName',\n",
      "       'NonAmtrakTicketSale', 'TimeZone', 'ObserveDayLightSaving',\n",
      "       'CheckInWService', 'CheckInWOService', 'Latitude/Longitude',\n",
      "       'Elevation', 'Population', 'FreeText', 'TicketOfficeName',\n",
      "       'TicketOfficePh', 'TicketOfficeATSPh', 'TicketOfficeFax',\n",
      "       'TicketOfficeATSFax', 'TicketOfficeQueue', 'TicketOfficeMshPrinter',\n",
      "       'StationServicesName', 'StationServicesPh', 'StationServicesATSPh',\n",
      "       'StationServicesFax', 'StationServicesATSFax', 'StationServicesQueue',\n",
      "       'StationServicesMsgPrinter', 'StationServicesPaging',\n",
      "       'StationServicesATSPaging', 'StationServicesLostFoundPh',\n",
      "       'StationServicesLostFoundATSPh', 'FirstLvlSupervisorName',\n",
      "       'FirstLvlSupervisorTitle', 'FirstLvlSupervisorLocation',\n",
      "       'FirstLvlSupervisorPh', 'FirstLvlSupervisorATSPh',\n",
      "       'FirstLvlSupervisorFax', 'FirstLvlSupervisorATSFax',\n",
      "       'FirstLvlSupervisorQueue', 'FirstLvlSupervisorMsgPrinter',\n",
      "       'SecondLvlSupervisorName', 'SecondLvlSupervisorTitle',\n",
      "       'SecondLvlSupervisorLocation', 'SecondLvlSupervisorPh',\n",
      "       'SecondLvlSupervisorATSPh', 'SecondLvlSupervisorFax',\n",
      "       'SecondLvlSupervisorATSFax', 'SecondLvlSupervisorQueue',\n",
      "       'SecondLvlSupervisorMsgPrinter', 'WaitingRoomHours', 'BaggageHours',\n",
      "       'MeetAndAssistHours', 'TicketHours', 'Non-AmtrakTicket',\n",
      "       'Quik-TrakHours', 'MetrolinkTVMHours', 'LoungeHours', 'ExpressHours',\n",
      "       'MailOfficeHours', 'ParkingHours'],\n",
      "      dtype='object') \n",
      "\n"
     ]
    }
   ],
   "source": [
    "# Check index size and the column names\n",
    "print(\"Index information: \", Amtrak_df.index, \"\\n\")\n",
    "print(\"Column information: \", Amtrak_df.columns, \"\\n\")\n"
   ]
  },
  {
   "cell_type": "code",
   "execution_count": 4,
   "id": "8241d58c",
   "metadata": {},
   "outputs": [
    {
     "name": "stdout",
     "output_type": "stream",
     "text": [
      "Dataframe shape:  (973, 86) \n",
      "\n",
      "Dataframe size:  83678 \n",
      "\n"
     ]
    }
   ],
   "source": [
    "# Continue looking at the size and shape of the information\n",
    "print(\"Dataframe shape: \", Amtrak_df.shape, \"\\n\")\n",
    "print(\"Dataframe size: \", Amtrak_df.size, \"\\n\")"
   ]
  },
  {
   "cell_type": "code",
   "execution_count": 6,
   "id": "362b2b62",
   "metadata": {},
   "outputs": [
    {
     "data": {
      "text/plain": [
       "<bound method NDFrame.describe of     Code                                    StationName Staffed  \\\n",
       "0    ABB                    Abbotsford-Colby, Wisconsin       N   \n",
       "1    ABE                             Aberdeen, Maryland       N   \n",
       "2    ABN                            Absecon, New Jersey       N   \n",
       "3    ABQ                        Albuquerque, New Mexico       Y   \n",
       "4    ACA                  Antioch-Pittsburg, California       N   \n",
       "..   ...                                            ...     ...   \n",
       "968  YOT         Yosemite - Tuolumne Meadow, California       N   \n",
       "969  YOV          Yosemite - Visitor Center, California       N   \n",
       "970  YOW              Yosemite - White Wolf, California       N   \n",
       "971  YUM                                  Yuma, Arizona       N   \n",
       "972  ZMW  Six Flags Discovery Kingdom Admission Ticket      NaN   \n",
       "\n",
       "                              StationType                            Address1  \\\n",
       "0     Curbside Bus Stop only (no shelter)             1210 North Division St.   \n",
       "1    Station Building (with waiting room)              18 East Bel Air Avenue   \n",
       "2                   Platform with Shelter          Shore Road and Ohio Avenue   \n",
       "3    Station Building (with waiting room)                   320 1st Street SW   \n",
       "4                   Platform with Shelter                        100 I Street   \n",
       "..                                    ...                                 ...   \n",
       "968   Curbside Bus Stop only (no shelter)    Tuolumne Meadows Visitors Center   \n",
       "969   Curbside Bus Stop only (no shelter)        National Park Visitor Center   \n",
       "970   Curbside Bus Stop only (no shelter)  Old Tioga Road at Highway 120 East   \n",
       "971            Platform only (no shelter)                     281 Gila Street   \n",
       "972                        Pseudo Station         Six Flags Discovery Kingdom   \n",
       "\n",
       "                                              Address2  \\\n",
       "0                                       Super 29 Shell   \n",
       "1                                  Amtrak/MARC Station   \n",
       "2                           New Jersey Transit Station   \n",
       "3                       Alvarado Transportation Center   \n",
       "4                                                  NaN   \n",
       "..                                                 ...   \n",
       "968                                   Highway 120 East   \n",
       "969  Yosemite Village.  Transfer point to park shut...   \n",
       "970                                  White Wolfe Lodge   \n",
       "971                                                NaN   \n",
       "972                           Book between VMW and ZMW   \n",
       "\n",
       "                               Address3                    City State  \\\n",
       "0                                   NaN                   Colby    WI   \n",
       "1                                   NaN                Aberdeen    MD   \n",
       "2                                   NaN                 Absecon    NJ   \n",
       "3                                   NaN             Albuquerque    NM   \n",
       "4                                   NaN                 Antioch    CA   \n",
       "..                                  ...                     ...   ...   \n",
       "968                                 NaN  Yosemite National Park    CA   \n",
       "969                                 NaN  Yosemite National Park    CA   \n",
       "970                                 NaN  Yosemite National Park    CA   \n",
       "971                                 NaN                    Yuma    AZ   \n",
       "972  See Attractions screen for details                 Vallejo    CA   \n",
       "\n",
       "            Zip  ...       BaggageHours MeetAndAssistHours        TicketHours  \\\n",
       "0         54421  ...                NaN                NaN                NaN   \n",
       "1    21001-3701  ...                NaN                NaN                NaN   \n",
       "2         08201  ...                NaN                NaN                NaN   \n",
       "3    87102-3405  ...  SMTWTFS 0945-1700  SMTWTFS 0945-1700  SMTWTFS 0945-1700   \n",
       "4    94509-1122  ...                NaN                NaN                NaN   \n",
       "..          ...  ...                ...                ...                ...   \n",
       "968       95389  ...                NaN                NaN                NaN   \n",
       "969       95389  ...                NaN                NaN                NaN   \n",
       "970       95389  ...                NaN                NaN                NaN   \n",
       "971       85364  ...                NaN                NaN                NaN   \n",
       "972       94589  ...                NaN                NaN                NaN   \n",
       "\n",
       "    Non-AmtrakTicket               Quik-TrakHours MetrolinkTVMHours  \\\n",
       "0                NaN                          NaN               NaN   \n",
       "1                NaN  -MTWTF- 0400-0930 1430-2030               NaN   \n",
       "2                NaN                          NaN               NaN   \n",
       "3                NaN            SMTWTFS 0000-2359               NaN   \n",
       "4                NaN                          NaN               NaN   \n",
       "..               ...                          ...               ...   \n",
       "968              NaN                          NaN               NaN   \n",
       "969              NaN                          NaN               NaN   \n",
       "970              NaN                          NaN               NaN   \n",
       "971              NaN                          NaN               NaN   \n",
       "972              NaN                          NaN               NaN   \n",
       "\n",
       "    LoungeHours ExpressHours MailOfficeHours       ParkingHours  \n",
       "0           NaN          NaN             NaN                NaN  \n",
       "1           NaN          NaN             NaN  SMTWTFS 0000-2359  \n",
       "2           NaN          NaN             NaN                NaN  \n",
       "3           NaN          NaN             NaN  SMTWTFS 0000-2359  \n",
       "4           NaN          NaN             NaN                NaN  \n",
       "..          ...          ...             ...                ...  \n",
       "968         NaN          NaN             NaN                NaN  \n",
       "969         NaN          NaN             NaN                NaN  \n",
       "970         NaN          NaN             NaN                NaN  \n",
       "971         NaN          NaN             NaN                NaN  \n",
       "972         NaN          NaN             NaN                NaN  \n",
       "\n",
       "[973 rows x 86 columns]>"
      ]
     },
     "execution_count": 6,
     "metadata": {},
     "output_type": "execute_result"
    }
   ],
   "source": [
    "# Descrbe the information\n",
    "Amtrak_df.describe"
   ]
  },
  {
   "cell_type": "markdown",
   "id": "fba2a767",
   "metadata": {},
   "source": [
    "# Things to Consider About The Amtrak Station Dataset\n",
    "\n",
    "1.  Not any numbers in the data set. \n",
    "2.  With 86 columns of data lot of stuff we do not care about\n",
    "3.  With 973 rows, this is very likely the entire population of Amtrak stations in the US\n",
    "\n",
    "## Categorical Data\n",
    "\n",
    "This dataset is a clear case of working with Categorical data. Columns names like __StationType__, __City__, and __State__ represent categories. These categories describe the station identified with a __Code__ and __StationName__. \n",
    "\n",
    "________\n",
    "To start processing the data, we will first eliminate unnecessary columns. *Note:* We might decide later to change what we eliminate from the different set.\n",
    "\n",
    "### Reduce Size of Dataframe\n",
    "1.  Create a list of coulmn names to keep\n",
    "2.  Create a new dataframe by applying the filer to the original dataframe\n",
    "\n",
    "*This does not modify the original dataframe*"
   ]
  },
  {
   "cell_type": "code",
   "execution_count": 8,
   "id": "afa1f28e",
   "metadata": {},
   "outputs": [
    {
     "name": "stdout",
     "output_type": "stream",
     "text": [
      "(973, 5)\n",
      "  Code                    StationName                           StationType  \\\n",
      "0  ABB    Abbotsford-Colby, Wisconsin   Curbside Bus Stop only (no shelter)   \n",
      "1  ABE             Aberdeen, Maryland  Station Building (with waiting room)   \n",
      "2  ABN            Absecon, New Jersey                 Platform with Shelter   \n",
      "3  ABQ        Albuquerque, New Mexico  Station Building (with waiting room)   \n",
      "4  ACA  Antioch-Pittsburg, California                 Platform with Shelter   \n",
      "\n",
      "          City State  \n",
      "0        Colby    WI  \n",
      "1     Aberdeen    MD  \n",
      "2      Absecon    NJ  \n",
      "3  Albuquerque    NM  \n",
      "4      Antioch    CA  \n"
     ]
    }
   ],
   "source": [
    "# Set up list as filter to apply to dataframe\n",
    "filterColumns = ['Code', 'StationName', 'StationType', 'City', 'State']\n",
    "\n",
    "# Create a second reduced dataframe\n",
    "Amtrak_reduced_df = Amtrak_df[filterColumns]\n",
    "\n",
    "print(Amtrak_reduced_df.shape)\n",
    "print(Amtrak_reduced_df.head())"
   ]
  },
  {
   "cell_type": "markdown",
   "id": "d941b857",
   "metadata": {},
   "source": [
    "## Finding Useful Information\n",
    "\n",
    "With categorical a count of distinct items in each category is used to tell us something about the data.\n",
    "\n",
    "Today we will focus on the station types. Before we start lets consider what we do not know.\n",
    "\n",
    "1.  How many different types are there?\n",
    "2.  Are there any types that are not important? (closed stations?)\n",
    "3.  Does the station type coulmn have overloaded information?\n",
    "4.  Are station types even interesting?\n",
    "\n",
    "#### Counting - StationType\n"
   ]
  },
  {
   "cell_type": "code",
   "execution_count": 9,
   "id": "4ca4b9a4",
   "metadata": {},
   "outputs": [
    {
     "name": "stdout",
     "output_type": "stream",
     "text": [
      "Station Type Counts\n",
      "\n",
      "Station Building (with waiting room)    439\n",
      "Curbside Bus Stop only (no shelter)     292\n",
      "Platform with Shelter                   123\n",
      "Pseudo Station                           69\n",
      "Platform only (no shelter)               50\n",
      "Name: StationType, dtype: int64\n"
     ]
    },
    {
     "data": {
      "text/plain": [
       "pandas.core.series.Series"
      ]
     },
     "execution_count": 9,
     "metadata": {},
     "output_type": "execute_result"
    }
   ],
   "source": [
    "Amtrak_stationType = Amtrak_reduced_df['StationType'].value_counts()\n",
    "print(\"Station Type Counts\\n\")\n",
    "print(Amtrak_stationType)\n",
    "type(Amtrak_stationType)\n"
   ]
  },
  {
   "cell_type": "markdown",
   "id": "1147168a",
   "metadata": {},
   "source": [
    "This opject time returned here is a pandas series. \n",
    "\n",
    "If we think of a dataframe as a 2-D array (or speadsheet) it is made up of multiple series.  A series is a 1-D arrays or a single column with an index.  A dataframe can be said to be a collection of series and can be more useful in analyse of data.\n",
    "\n",
    "#### Counting Again - Returning a Dataframe"
   ]
  },
  {
   "cell_type": "code",
   "execution_count": 11,
   "id": "31993fbb",
   "metadata": {},
   "outputs": [
    {
     "name": "stdout",
     "output_type": "stream",
     "text": [
      "Station Type Counts (Dataframe)\n",
      "\n",
      "                            StationType  Count\n",
      "0   Curbside Bus Stop only (no shelter)    292\n",
      "1            Platform only (no shelter)     50\n",
      "2                 Platform with Shelter    123\n",
      "3                        Pseudo Station     69\n",
      "4  Station Building (with waiting room)    439\n"
     ]
    }
   ],
   "source": [
    "# single column\n",
    "Amtrak_stationType_df = Amtrak_reduced_df.groupby([\"StationType\"]).size().reset_index(name=\"Count\")\n",
    "print(\"Station Type Counts (Dataframe)\\n\")\n",
    "print(Amtrak_stationType_df)"
   ]
  },
  {
   "cell_type": "markdown",
   "id": "6b8e5d4e",
   "metadata": {},
   "source": [
    "#### Count Something Different\n",
    "\n",
    "Station type might seem interesting but maybe states might be a better way to group the information.\n",
    "\n",
    "Pandas Tools Used\n",
    "\n",
    "**groupby** Specify which column or columns to group together. Provided as a list.\n",
    "**size()** Returns a pandas series which has the field names as the index\n",
    "\n",
    "*count()* Similiar to size count- but ignores NaN so might not return the entire \n",
    "\n",
    "An article on Pandas Groupby that explains this in detail with examples can be found [here](https://datascienceparichay.com/article/pandas-groupby-count-of-rows-in-each-group/).\n",
    "\n",
    "**reset_index(name=\"Count\")** Adding this parameter names the new column Count and resets the index column for the dataframe"
   ]
  },
  {
   "cell_type": "code",
   "execution_count": 23,
   "id": "c37f9111",
   "metadata": {},
   "outputs": [
    {
     "name": "stdout",
     "output_type": "stream",
     "text": [
      "Index(['AL', 'AR', 'AZ', 'BC', 'CA', 'CO', 'CT', 'DC', 'DE', 'FL', 'GA', 'IA',\n",
      "       'ID', 'IL', 'IN', 'KS', 'KY', 'LA', 'MA', 'MD', 'ME', 'MI', 'MN', 'MO',\n",
      "       'MS', 'MT', 'NC', 'ND', 'NE', 'NH', 'NJ', 'NM', 'NV', 'NY', 'OH', 'OK',\n",
      "       'ON', 'OR', 'PA', 'QC', 'RI', 'SC', 'TN', 'TX', 'UT', 'VA', 'VT', 'WA',\n",
      "       'WI', 'WV'],\n",
      "      dtype='object', name='State')\n",
      "State\n",
      "AL      3\n",
      "AR      5\n",
      "AZ     18\n",
      "BC     10\n",
      "CA    198\n",
      "dtype: int64\n"
     ]
    }
   ],
   "source": [
    "# group by state\n",
    "\n",
    "Amtrak_stationState_df = Amtrak_reduced_df.groupby([\"State\"]).size()\n",
    "print(Amtrak_stationState_df.index)\n",
    "print(Amtrak_stationState_df.head())\n"
   ]
  },
  {
   "cell_type": "code",
   "execution_count": null,
   "id": "e075e680",
   "metadata": {},
   "outputs": [],
   "source": [
    "# No column name creates an issue\n",
    "# print(Amtrak_stationState_df.columns)"
   ]
  },
  {
   "cell_type": "code",
   "execution_count": 31,
   "id": "568298e0",
   "metadata": {},
   "outputs": [
    {
     "name": "stdout",
     "output_type": "stream",
     "text": [
      "RangeIndex(start=0, stop=50, step=1) \n",
      "\n",
      "  State  Count\n",
      "0    AL      3\n",
      "1    AR      5\n",
      "2    AZ     18\n",
      "3    BC     10\n",
      "4    CA    198 \n",
      "\n"
     ]
    }
   ],
   "source": [
    "# group by state\n",
    "\n",
    "Amtrak_stationState_df = Amtrak_reduced_df.groupby([\"State\"]).size().reset_index(name=\"Count\")\n",
    "print(Amtrak_stationState_df.index,'\\n')\n",
    "print(Amtrak_stationState_df.head(), '\\n')"
   ]
  },
  {
   "cell_type": "markdown",
   "id": "726bf99e",
   "metadata": {},
   "source": [
    "### Counting with Multi Column Grouping"
   ]
  },
  {
   "cell_type": "code",
   "execution_count": 24,
   "id": "8748966e",
   "metadata": {},
   "outputs": [
    {
     "name": "stdout",
     "output_type": "stream",
     "text": [
      "    State                           StationType  Count\n",
      "0      AL  Station Building (with waiting room)      3\n",
      "1      AR                 Platform with Shelter      2\n",
      "2      AR  Station Building (with waiting room)      3\n",
      "3      AZ   Curbside Bus Stop only (no shelter)      4\n",
      "4      AZ            Platform only (no shelter)      3\n",
      "..    ...                                   ...    ...\n",
      "132    WI                 Platform with Shelter      1\n",
      "133    WI  Station Building (with waiting room)     10\n",
      "134    WV                 Platform with Shelter      5\n",
      "135    WV                        Pseudo Station      1\n",
      "136    WV  Station Building (with waiting room)      5\n",
      "\n",
      "[137 rows x 3 columns]\n"
     ]
    }
   ],
   "source": [
    "# multicolumns\n",
    "columnList = [\"State\", \"StationType\"]\n",
    "Amtrak_stationTypeXState_df =Amtrak_reduced_df.groupby(columnList).size().reset_index(name=\"Count\")\n",
    "print(Amtrak_stationTypeXState_df)"
   ]
  },
  {
   "cell_type": "markdown",
   "id": "08b7573b",
   "metadata": {},
   "source": [
    "# Visualization\n",
    "\n",
    "By default pandas uses the matplotlib library to make plots of series or dataframes.\n",
    "\n",
    "**Note** This can be changed using the plotting.backend option. This is beyond the scope of what is being covered here, but can be explored at: \n",
    "\n",
    "[How to use Plotly as Pandas Plotting Backend](https://towardsdev.com/how-to-use-plotly-as-pandas-plotting-backend-123ff5378003)\n",
    "\n",
    "[Bokeh Plotting Backend for Pandas and GeoPandas](https://pythonrepo.com/repo/PatrikHlobil-Pandas-Bokeh-python-data-validation)\n",
    "\n",
    "## Barchart\n",
    "\n",
    "A bar chart or bar graph is a chart or graph that presents categorical data with rectangular bars with heights or lengths proportional to the values that they represent."
   ]
  },
  {
   "cell_type": "code",
   "execution_count": 32,
   "id": "71e394a9",
   "metadata": {},
   "outputs": [
    {
     "data": {
      "text/plain": [
       "<AxesSubplot:>"
      ]
     },
     "execution_count": 32,
     "metadata": {},
     "output_type": "execute_result"
    },
    {
     "data": {
      "image/png": "[encoded data removed]",
      "text/plain": [
       "<Figure size 432x288 with 1 Axes>"
      ]
     },
     "metadata": {
      "needs_background": "light"
     },
     "output_type": "display_data"
    },
    {
     "data": {
      "image/png": "[encoded data removed]",
      "text/plain": [
       "<Figure size 432x288 with 1 Axes>"
      ]
     },
     "metadata": {
      "needs_background": "light"
     },
     "output_type": "display_data"
    }
   ],
   "source": [
    "Amtrak_stationState_df.plot(kind='bar')\n",
    "\n",
    "Amtrak_stationType_df.plot(kind='bar')"
   ]
  },
  {
   "cell_type": "markdown",
   "id": "d87d0bdf",
   "metadata": {},
   "source": [
    "#### Adjust The Size of Graph & Add a Title"
   ]
  },
  {
   "cell_type": "code",
   "execution_count": 29,
   "id": "8e41bda1",
   "metadata": {},
   "outputs": [
    {
     "data": {
      "text/plain": [
       "<AxesSubplot:title={'center':'Amtrak Stations by State'}, xlabel='State'>"
      ]
     },
     "execution_count": 29,
     "metadata": {},
     "output_type": "execute_result"
    },
    {
     "data": {
      "image/png": "[encoded data removed]",
      "text/plain": [
       "<Figure size 792x432 with 1 Axes>"
      ]
     },
     "metadata": {
      "needs_background": "light"
     },
     "output_type": "display_data"
    }
   ],
   "source": [
    "Amtrak_stationState_df.plot(kind='bar', x='State', y='Count', title='Amtrak Stations by State', figsize= (11,6))\n",
    "# plt.minorticks_on()\n",
    "# plt.grid(which='major', linestyle='-', linewidth='0.5', color='green')\n",
    "# plt.grid(which='minor', linestyle=':', linewidth='0.5', color='black')"
   ]
  },
  {
   "cell_type": "markdown",
   "id": "52245695",
   "metadata": {},
   "source": [
    "#### Make sure that the visualization is not too busy\n",
    "\n",
    "Reccomendations are between 7 and 12\n",
    "\n",
    "To get to the recomendations we have a few options. \n",
    "\n",
    "1.  Combine items (States with more then 25 stations, 15 - 24, 10 -14, 5 - 9, and Less then 5, etc)\n",
    "2.  Examine a subset of data (only the top or bottom states)\n",
    "\n",
    "Working with a subgroup is not a horrible idea - it is similiar - but not the same as sampling.\n",
    "\n",
    "_______\n",
    "#### Reducing the number of records\n",
    "\n",
    "Pandas Tools Used\n",
    "\n",
    "**loc** method that takes only index labels and returns row or dataframe if the index label exists in the caller data frame\n",
    "\n",
    "df.loc[df['ColumnToFilterOn'] = *condition*]\n"
   ]
  },
  {
   "cell_type": "code",
   "execution_count": 34,
   "id": "3ed37682",
   "metadata": {},
   "outputs": [
    {
     "data": {
      "text/plain": [
       "0     False\n",
       "1     False\n",
       "2     False\n",
       "3     False\n",
       "4      True\n",
       "5     False\n",
       "6     False\n",
       "7     False\n",
       "8     False\n",
       "9      True\n",
       "10    False\n",
       "11    False\n",
       "12    False\n",
       "13     True\n",
       "14    False\n",
       "15    False\n",
       "16    False\n",
       "17    False\n",
       "18    False\n",
       "19     True\n",
       "20    False\n",
       "21     True\n",
       "22    False\n",
       "23    False\n",
       "24    False\n",
       "25    False\n",
       "26    False\n",
       "27    False\n",
       "28    False\n",
       "29    False\n",
       "30    False\n",
       "31    False\n",
       "32    False\n",
       "33     True\n",
       "34    False\n",
       "35    False\n",
       "36    False\n",
       "37     True\n",
       "38    False\n",
       "39    False\n",
       "40    False\n",
       "41    False\n",
       "42    False\n",
       "43    False\n",
       "44    False\n",
       "45    False\n",
       "46    False\n",
       "47     True\n",
       "48     True\n",
       "49    False\n",
       "Name: Count, dtype: bool"
      ]
     },
     "execution_count": 34,
     "metadata": {},
     "output_type": "execute_result"
    }
   ],
   "source": [
    "# filter returns the index and the boolean for all values\n",
    "Amtrak_stationState_df['Count'] > 25"
   ]
  },
  {
   "cell_type": "markdown",
   "id": "cb48ac0c",
   "metadata": {},
   "source": [
    "Now loc will return the entire row where the value is true."
   ]
  },
  {
   "cell_type": "code",
   "execution_count": 36,
   "id": "e57ccee9",
   "metadata": {},
   "outputs": [
    {
     "name": "stdout",
     "output_type": "stream",
     "text": [
      "   State  Count\n",
      "4     CA    198\n",
      "9     FL     32\n",
      "13    IL     36\n",
      "19    MD     52\n",
      "21    MI     50\n"
     ]
    }
   ],
   "source": [
    "# del Amtrak_stationTopStates_df\n",
    "# Look for the states with the larget number of stations\n",
    "Amtrak_stationTopStates_df = Amtrak_stationState_df.loc[Amtrak_stationState_df['Count'] > 25]\n",
    "print(Amtrak_stationTopStates_df.head())"
   ]
  },
  {
   "cell_type": "markdown",
   "id": "6cee334c",
   "metadata": {},
   "source": [
    "#### Place the reduced dataframe on the barchart"
   ]
  },
  {
   "cell_type": "code",
   "execution_count": 38,
   "id": "9e28f723",
   "metadata": {},
   "outputs": [
    {
     "data": {
      "text/plain": [
       "<AxesSubplot:title={'center':'Amtrak Stations by State'}, xlabel='State'>"
      ]
     },
     "execution_count": 38,
     "metadata": {},
     "output_type": "execute_result"
    },
    {
     "data": {
      "image/png": "[encoded data removed]",
      "text/plain": [
       "<Figure size 936x432 with 1 Axes>"
      ]
     },
     "metadata": {
      "needs_background": "light"
     },
     "output_type": "display_data"
    }
   ],
   "source": [
    "Amtrak_stationTopStates_df.plot(kind='bar', x='State', y='Count', \n",
    "                                title='Amtrak Stations by State', figsize= (13,6))"
   ]
  },
  {
   "cell_type": "markdown",
   "id": "6919ef46",
   "metadata": {},
   "source": [
    "### Probability Distribution\n",
    "\n",
    "A probability distribution tells us the probability that a random variable takes on certain values.\n",
    "\n",
    "#### The math\n",
    "1. Get a count of all stations in the data frame  (Saved to total)\n",
    "2. Divide the individual counts by total to determine the probability\n",
    "\n",
    "**Note** the sum of all probabilties will equal 1\n",
    "\n",
    "#### Modify the dataframe \n",
    "\n",
    "Add a new column onto the dataframe\n"
   ]
  },
  {
   "cell_type": "code",
   "execution_count": 42,
   "id": "6cbc1500",
   "metadata": {},
   "outputs": [
    {
     "ename": "ValueError",
     "evalue": "cannot insert Probability, already exists",
     "output_type": "error",
     "traceback": [
      "\u001b[1;31m---------------------------------------------------------------------------\u001b[0m",
      "\u001b[1;31mValueError\u001b[0m                                Traceback (most recent call last)",
      "Input \u001b[1;32mIn [42]\u001b[0m, in \u001b[0;36m<module>\u001b[1;34m\u001b[0m\n\u001b[0;32m      1\u001b[0m total \u001b[38;5;241m=\u001b[39m Amtrak_stationTopStates_df[\u001b[38;5;124m'\u001b[39m\u001b[38;5;124mCount\u001b[39m\u001b[38;5;124m'\u001b[39m]\u001b[38;5;241m.\u001b[39msum()\n\u001b[1;32m----> 2\u001b[0m \u001b[43mAmtrak_stationTopStates_df\u001b[49m\u001b[38;5;241;43m.\u001b[39;49m\u001b[43minsert\u001b[49m\u001b[43m(\u001b[49m\u001b[38;5;241;43m0\u001b[39;49m\u001b[43m,\u001b[49m\u001b[43m \u001b[49m\u001b[38;5;124;43m'\u001b[39;49m\u001b[38;5;124;43mProbability\u001b[39;49m\u001b[38;5;124;43m'\u001b[39;49m\u001b[43m,\u001b[49m\u001b[43m \u001b[49m\u001b[43mAmtrak_stationTopStates_df\u001b[49m\u001b[43m[\u001b[49m\u001b[38;5;124;43m'\u001b[39;49m\u001b[38;5;124;43mCount\u001b[39;49m\u001b[38;5;124;43m'\u001b[39;49m\u001b[43m]\u001b[49m\u001b[38;5;241;43m/\u001b[39;49m\u001b[43mtotal\u001b[49m\u001b[43m)\u001b[49m\n",
      "File \u001b[1;32m~\\Python\\jupyter\\venv\\lib\\site-packages\\pandas\\core\\frame.py:4414\u001b[0m, in \u001b[0;36mDataFrame.insert\u001b[1;34m(self, loc, column, value, allow_duplicates)\u001b[0m\n\u001b[0;32m   4408\u001b[0m     \u001b[38;5;28;01mraise\u001b[39;00m \u001b[38;5;167;01mValueError\u001b[39;00m(\n\u001b[0;32m   4409\u001b[0m         \u001b[38;5;124m\"\u001b[39m\u001b[38;5;124mCannot specify \u001b[39m\u001b[38;5;124m'\u001b[39m\u001b[38;5;124mallow_duplicates=True\u001b[39m\u001b[38;5;124m'\u001b[39m\u001b[38;5;124m when \u001b[39m\u001b[38;5;124m\"\u001b[39m\n\u001b[0;32m   4410\u001b[0m         \u001b[38;5;124m\"\u001b[39m\u001b[38;5;124m'\u001b[39m\u001b[38;5;124mself.flags.allows_duplicate_labels\u001b[39m\u001b[38;5;124m'\u001b[39m\u001b[38;5;124m is False.\u001b[39m\u001b[38;5;124m\"\u001b[39m\n\u001b[0;32m   4411\u001b[0m     )\n\u001b[0;32m   4412\u001b[0m \u001b[38;5;28;01mif\u001b[39;00m \u001b[38;5;129;01mnot\u001b[39;00m allow_duplicates \u001b[38;5;129;01mand\u001b[39;00m column \u001b[38;5;129;01min\u001b[39;00m \u001b[38;5;28mself\u001b[39m\u001b[38;5;241m.\u001b[39mcolumns:\n\u001b[0;32m   4413\u001b[0m     \u001b[38;5;66;03m# Should this be a different kind of error??\u001b[39;00m\n\u001b[1;32m-> 4414\u001b[0m     \u001b[38;5;28;01mraise\u001b[39;00m \u001b[38;5;167;01mValueError\u001b[39;00m(\u001b[38;5;124mf\u001b[39m\u001b[38;5;124m\"\u001b[39m\u001b[38;5;124mcannot insert \u001b[39m\u001b[38;5;132;01m{\u001b[39;00mcolumn\u001b[38;5;132;01m}\u001b[39;00m\u001b[38;5;124m, already exists\u001b[39m\u001b[38;5;124m\"\u001b[39m)\n\u001b[0;32m   4415\u001b[0m \u001b[38;5;28;01mif\u001b[39;00m \u001b[38;5;129;01mnot\u001b[39;00m \u001b[38;5;28misinstance\u001b[39m(loc, \u001b[38;5;28mint\u001b[39m):\n\u001b[0;32m   4416\u001b[0m     \u001b[38;5;28;01mraise\u001b[39;00m \u001b[38;5;167;01mTypeError\u001b[39;00m(\u001b[38;5;124m\"\u001b[39m\u001b[38;5;124mloc must be int\u001b[39m\u001b[38;5;124m\"\u001b[39m)\n",
      "\u001b[1;31mValueError\u001b[0m: cannot insert Probability, already exists"
     ]
    }
   ],
   "source": [
    "total = Amtrak_stationTopStates_df['Count'].sum()\n",
    "Amtrak_stationTopStates_df.insert(0, 'Probability', Amtrak_stationTopStates_df['Count']/total)"
   ]
  },
  {
   "cell_type": "markdown",
   "id": "5ff4a165",
   "metadata": {},
   "source": [
    "#### Print out the probabity of each top state\n",
    "\n",
    "Notice the difference in the graph height.  This was set using figsize"
   ]
  },
  {
   "cell_type": "code",
   "execution_count": 43,
   "id": "19e422ad",
   "metadata": {},
   "outputs": [
    {
     "data": {
      "text/plain": [
       "<AxesSubplot:title={'center':'Amtrak Stations by State'}, xlabel='State'>"
      ]
     },
     "execution_count": 43,
     "metadata": {},
     "output_type": "execute_result"
    },
    {
     "data": {
      "image/png": "[encoded data removed]",
      "text/plain": [
       "<Figure size 936x288 with 1 Axes>"
      ]
     },
     "metadata": {
      "needs_background": "light"
     },
     "output_type": "display_data"
    }
   ],
   "source": [
    "Amtrak_stationTopStates_df.plot(kind='bar', x='State', y='Probability', \n",
    "                                title='Amtrak Stations by State', figsize= (13,4))"
   ]
  },
  {
   "cell_type": "markdown",
   "id": "619e6469",
   "metadata": {},
   "source": [
    "So that is Categorical data from a high level.\n",
    "\n",
    "We talked about groupng and counting. Two other things worth exploring with categorical data.\n",
    "\n",
    "1. Pandas does have a categorical data type. These can be explored [here](https://pbpython.com/pandas_dtypes_cat.html)\n",
    "2. Add dummy coulmns to extend this information for a more detaialed analysis. Review our initial counts. \n",
    "\n",
    "Maybe we could combine 1 and 2 and eliminate 3 to leave us with 3 catagories of stations.\n"
   ]
  },
  {
   "cell_type": "code",
   "execution_count": 44,
   "id": "691fae50",
   "metadata": {},
   "outputs": [
    {
     "name": "stdout",
     "output_type": "stream",
     "text": [
      "                            StationType  Count\n",
      "0   Curbside Bus Stop only (no shelter)    292\n",
      "1            Platform only (no shelter)     50\n",
      "2                 Platform with Shelter    123\n",
      "3                        Pseudo Station     69\n",
      "4  Station Building (with waiting room)    439\n"
     ]
    }
   ],
   "source": [
    "print(Amtrak_stationType_df)"
   ]
  },
  {
   "cell_type": "code",
   "execution_count": null,
   "id": "5ea8fd94",
   "metadata": {},
   "outputs": [],
   "source": []
  }
 ],
 "metadata": {
  "kernelspec": {
   "display_name": "Python 3 (ipykernel)",
   "language": "python",
   "name": "python3"
  },
  "language_info": {
   "codemirror_mode": {
    "name": "ipython",
    "version": 3
   },
   "file_extension": ".py",
   "mimetype": "text/x-python",
   "name": "python",
   "nbconvert_exporter": "python",
   "pygments_lexer": "ipython3",
   "version": "3.10.1"
  }
 },
 "nbformat": 4,
 "nbformat_minor": 5
}
